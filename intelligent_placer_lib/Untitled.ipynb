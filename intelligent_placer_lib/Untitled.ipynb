{
 "cells": [
  {
   "cell_type": "code",
   "execution_count": 1,
   "id": "3f6559bc",
   "metadata": {},
   "outputs": [],
   "source": [
    "import os\n",
    "import cv2\n",
    "import numpy as np\n",
    "from matplotlib import pyplot as plt\n",
    "\n",
    "from imageio import imread, imsave\n",
    "from skimage.morphology import binary_opening\n",
    "from skimage.measure import regionprops\n",
    "from skimage.measure import label\n",
    "from scipy.ndimage import binary_fill_holes\n",
    "from scipy.ndimage import rotate\n",
    "\n",
    "from skimage.morphology import binary_closing"
   ]
  },
  {
   "cell_type": "code",
   "execution_count": 40,
   "id": "8a4c6738",
   "metadata": {},
   "outputs": [],
   "source": [
    "def my_xor(mask, rect):\n",
    "    result = mask.copy()\n",
    "    for i in range(len(mask)):\n",
    "        for j in range(len(mask[i])):\n",
    "            result[i][j]=int(bool(mask[i][j]) != bool(rect[i][j]))\n",
    "            print(int(bool(mask[i][j]) != bool(rect[i][j])))\n",
    "            print(f\"{bool(mask[i][j])} {bool(rect[i][j])} {result[i][j]}\")\n",
    "\n",
    "    plt.imshow(result)\n",
    "    plt.show()\n",
    "    \n",
    "    plt.imshow(cv2.bitwise_xor(mask, rect))\n",
    "    plt.show()"
   ]
  },
  {
   "cell_type": "code",
   "execution_count": 41,
   "id": "10de1041",
   "metadata": {},
   "outputs": [
    {
     "name": "stdout",
     "output_type": "stream",
     "text": [
      "0\n",
      "False False 0\n",
      "0\n",
      "False False 0\n",
      "0\n",
      "False False 0\n",
      "0\n",
      "True True 0\n"
     ]
    },
    {
     "data": {
      "image/png": "[encoded data removed]",
      "text/plain": [
       "<Figure size 432x288 with 1 Axes>"
      ]
     },
     "metadata": {
      "needs_background": "light"
     },
     "output_type": "display_data"
    },
    {
     "data": {
      "image/png": "[encoded data removed]",
      "text/plain": [
       "<Figure size 432x288 with 1 Axes>"
      ]
     },
     "metadata": {
      "needs_background": "light"
     },
     "output_type": "display_data"
    },
    {
     "name": "stdout",
     "output_type": "stream",
     "text": [
      "False\n"
     ]
    }
   ],
   "source": [
    "\n",
    "\n",
    "my_xor(np.asarray([[0,0], [0,1]]), (np.asarray([[0,0], [0,1]])))\n",
    "print(True!=True)"
   ]
  },
  {
   "cell_type": "code",
   "execution_count": null,
   "id": "9b71f3af",
   "metadata": {},
   "outputs": [],
   "source": []
  }
 ],
 "metadata": {
  "kernelspec": {
   "display_name": "Python 3 (ipykernel)",
   "language": "python",
   "name": "python3"
  },
  "language_info": {
   "codemirror_mode": {
    "name": "ipython",
    "version": 3
   },
   "file_extension": ".py",
   "mimetype": "text/x-python",
   "name": "python",
   "nbconvert_exporter": "python",
   "pygments_lexer": "ipython3",
   "version": "3.9.2"
  }
 },
 "nbformat": 4,
 "nbformat_minor": 5
}
